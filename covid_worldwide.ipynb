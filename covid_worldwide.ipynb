{
 "cells": [
  {
   "cell_type": "code",
   "execution_count": 1,
   "id": "56783e3b",
   "metadata": {},
   "outputs": [],
   "source": [
    "import pandas as pd\n",
    "import numpy as np\n",
    "import matplotlib.pyplot as plt\n",
    "import seaborn as sns\n"
   ]
  },
  {
   "cell_type": "code",
   "execution_count": 2,
   "id": "0638b8b6",
   "metadata": {},
   "outputs": [],
   "source": [
    "cv=pd.read_csv(\"covid_worldwide.csv\")"
   ]
  },
  {
   "cell_type": "code",
   "execution_count": 3,
   "id": "d4c1dde0",
   "metadata": {},
   "outputs": [
    {
     "data": {
      "text/html": [
       "<div>\n",
       "<style scoped>\n",
       "    .dataframe tbody tr th:only-of-type {\n",
       "        vertical-align: middle;\n",
       "    }\n",
       "\n",
       "    .dataframe tbody tr th {\n",
       "        vertical-align: top;\n",
       "    }\n",
       "\n",
       "    .dataframe thead th {\n",
       "        text-align: right;\n",
       "    }\n",
       "</style>\n",
       "<table border=\"1\" class=\"dataframe\">\n",
       "  <thead>\n",
       "    <tr style=\"text-align: right;\">\n",
       "      <th></th>\n",
       "      <th>Serial Number</th>\n",
       "      <th>Country</th>\n",
       "      <th>Total Cases</th>\n",
       "      <th>Total Deaths</th>\n",
       "      <th>Total Recovered</th>\n",
       "      <th>Active Cases</th>\n",
       "      <th>Total Test</th>\n",
       "      <th>Population</th>\n",
       "    </tr>\n",
       "  </thead>\n",
       "  <tbody>\n",
       "    <tr>\n",
       "      <th>0</th>\n",
       "      <td>1</td>\n",
       "      <td>USA</td>\n",
       "      <td>104,196,861</td>\n",
       "      <td>1,132,935</td>\n",
       "      <td>101,322,779</td>\n",
       "      <td>1,741,147</td>\n",
       "      <td>1,159,832,679</td>\n",
       "      <td>334,805,269</td>\n",
       "    </tr>\n",
       "    <tr>\n",
       "      <th>1</th>\n",
       "      <td>2</td>\n",
       "      <td>India</td>\n",
       "      <td>44,682,784</td>\n",
       "      <td>530,740</td>\n",
       "      <td>44,150,289</td>\n",
       "      <td>1,755</td>\n",
       "      <td>915,265,788</td>\n",
       "      <td>1,406,631,776</td>\n",
       "    </tr>\n",
       "    <tr>\n",
       "      <th>2</th>\n",
       "      <td>3</td>\n",
       "      <td>France</td>\n",
       "      <td>39,524,311</td>\n",
       "      <td>164,233</td>\n",
       "      <td>39,264,546</td>\n",
       "      <td>95,532</td>\n",
       "      <td>271,490,188</td>\n",
       "      <td>65,584,518</td>\n",
       "    </tr>\n",
       "    <tr>\n",
       "      <th>3</th>\n",
       "      <td>4</td>\n",
       "      <td>Germany</td>\n",
       "      <td>37,779,833</td>\n",
       "      <td>165,711</td>\n",
       "      <td>37,398,100</td>\n",
       "      <td>216,022</td>\n",
       "      <td>122,332,384</td>\n",
       "      <td>83,883,596</td>\n",
       "    </tr>\n",
       "    <tr>\n",
       "      <th>4</th>\n",
       "      <td>5</td>\n",
       "      <td>Brazil</td>\n",
       "      <td>36,824,580</td>\n",
       "      <td>697,074</td>\n",
       "      <td>35,919,372</td>\n",
       "      <td>208,134</td>\n",
       "      <td>63,776,166</td>\n",
       "      <td>215,353,593</td>\n",
       "    </tr>\n",
       "  </tbody>\n",
       "</table>\n",
       "</div>"
      ],
      "text/plain": [
       "   Serial Number  Country  Total Cases Total Deaths Total Recovered  \\\n",
       "0              1      USA  104,196,861    1,132,935     101,322,779   \n",
       "1              2    India   44,682,784      530,740      44,150,289   \n",
       "2              3   France   39,524,311      164,233      39,264,546   \n",
       "3              4  Germany   37,779,833      165,711      37,398,100   \n",
       "4              5   Brazil   36,824,580      697,074      35,919,372   \n",
       "\n",
       "  Active Cases     Total Test     Population  \n",
       "0    1,741,147  1,159,832,679    334,805,269  \n",
       "1        1,755    915,265,788  1,406,631,776  \n",
       "2       95,532    271,490,188     65,584,518  \n",
       "3      216,022    122,332,384     83,883,596  \n",
       "4      208,134     63,776,166    215,353,593  "
      ]
     },
     "execution_count": 3,
     "metadata": {},
     "output_type": "execute_result"
    }
   ],
   "source": [
    "cv.head()"
   ]
  },
  {
   "cell_type": "code",
   "execution_count": 4,
   "id": "bf18a311",
   "metadata": {},
   "outputs": [
    {
     "data": {
      "text/plain": [
       "Serial Number       0\n",
       "Country             0\n",
       "Total Cases         0\n",
       "Total Deaths        6\n",
       "Total Recovered    21\n",
       "Active Cases       19\n",
       "Total Test         18\n",
       "Population          3\n",
       "dtype: int64"
      ]
     },
     "execution_count": 4,
     "metadata": {},
     "output_type": "execute_result"
    }
   ],
   "source": [
    "cv.isnull().sum()"
   ]
  },
  {
   "cell_type": "code",
   "execution_count": 5,
   "id": "98fe0152",
   "metadata": {},
   "outputs": [
    {
     "data": {
      "text/plain": [
       "Serial Number       int64\n",
       "Country            object\n",
       "Total Cases        object\n",
       "Total Deaths       object\n",
       "Total Recovered    object\n",
       "Active Cases       object\n",
       "Total Test         object\n",
       "Population         object\n",
       "dtype: object"
      ]
     },
     "execution_count": 5,
     "metadata": {},
     "output_type": "execute_result"
    }
   ],
   "source": [
    "cv.dtypes"
   ]
  },
  {
   "cell_type": "code",
   "execution_count": 6,
   "id": "650ea0c6",
   "metadata": {},
   "outputs": [],
   "source": [
    "cv.dropna(inplace=True)"
   ]
  },
  {
   "cell_type": "code",
   "execution_count": 7,
   "id": "8613991d",
   "metadata": {},
   "outputs": [
    {
     "data": {
      "text/plain": [
       "Serial Number      0\n",
       "Country            0\n",
       "Total Cases        0\n",
       "Total Deaths       0\n",
       "Total Recovered    0\n",
       "Active Cases       0\n",
       "Total Test         0\n",
       "Population         0\n",
       "dtype: int64"
      ]
     },
     "execution_count": 7,
     "metadata": {},
     "output_type": "execute_result"
    }
   ],
   "source": [
    "cv.isnull().sum()"
   ]
  },
  {
   "cell_type": "code",
   "execution_count": null,
   "id": "b71c93fd",
   "metadata": {},
   "outputs": [],
   "source": [
    "### change datatype of columns and removing commas"
   ]
  },
  {
   "cell_type": "code",
   "execution_count": 8,
   "id": "bbe9b4cc",
   "metadata": {},
   "outputs": [],
   "source": [
    "cols=['Total Cases','Total Deaths','Total Recovered','Active Cases','Total Test','Population']"
   ]
  },
  {
   "cell_type": "code",
   "execution_count": 9,
   "id": "5bb5e67d",
   "metadata": {},
   "outputs": [],
   "source": [
    "cv[cols]=cv[cols].replace(\",\",\"\",regex=True).astype(int)"
   ]
  },
  {
   "cell_type": "code",
   "execution_count": 43,
   "id": "0fd0f930",
   "metadata": {},
   "outputs": [
    {
     "data": {
      "text/html": [
       "<div>\n",
       "<style scoped>\n",
       "    .dataframe tbody tr th:only-of-type {\n",
       "        vertical-align: middle;\n",
       "    }\n",
       "\n",
       "    .dataframe tbody tr th {\n",
       "        vertical-align: top;\n",
       "    }\n",
       "\n",
       "    .dataframe thead th {\n",
       "        text-align: right;\n",
       "    }\n",
       "</style>\n",
       "<table border=\"1\" class=\"dataframe\">\n",
       "  <thead>\n",
       "    <tr style=\"text-align: right;\">\n",
       "      <th></th>\n",
       "      <th>Serial Number</th>\n",
       "      <th>Country</th>\n",
       "      <th>Total Cases</th>\n",
       "      <th>Total Deaths</th>\n",
       "      <th>Total Recovered</th>\n",
       "      <th>Active Cases</th>\n",
       "      <th>Total Test</th>\n",
       "      <th>Population</th>\n",
       "      <th>casetodeath(in %)</th>\n",
       "      <th>casetopopulation(in %)</th>\n",
       "    </tr>\n",
       "  </thead>\n",
       "  <tbody>\n",
       "    <tr>\n",
       "      <th>0</th>\n",
       "      <td>1</td>\n",
       "      <td>USA</td>\n",
       "      <td>104196861</td>\n",
       "      <td>1132935</td>\n",
       "      <td>101322779</td>\n",
       "      <td>1741147</td>\n",
       "      <td>1159832679</td>\n",
       "      <td>334805269</td>\n",
       "      <td>1.087302</td>\n",
       "      <td>31.121631</td>\n",
       "    </tr>\n",
       "    <tr>\n",
       "      <th>1</th>\n",
       "      <td>2</td>\n",
       "      <td>India</td>\n",
       "      <td>44682784</td>\n",
       "      <td>530740</td>\n",
       "      <td>44150289</td>\n",
       "      <td>1755</td>\n",
       "      <td>915265788</td>\n",
       "      <td>1406631776</td>\n",
       "      <td>1.187795</td>\n",
       "      <td>3.176580</td>\n",
       "    </tr>\n",
       "    <tr>\n",
       "      <th>2</th>\n",
       "      <td>3</td>\n",
       "      <td>France</td>\n",
       "      <td>39524311</td>\n",
       "      <td>164233</td>\n",
       "      <td>39264546</td>\n",
       "      <td>95532</td>\n",
       "      <td>271490188</td>\n",
       "      <td>65584518</td>\n",
       "      <td>0.415524</td>\n",
       "      <td>60.264697</td>\n",
       "    </tr>\n",
       "    <tr>\n",
       "      <th>3</th>\n",
       "      <td>4</td>\n",
       "      <td>Germany</td>\n",
       "      <td>37779833</td>\n",
       "      <td>165711</td>\n",
       "      <td>37398100</td>\n",
       "      <td>216022</td>\n",
       "      <td>122332384</td>\n",
       "      <td>83883596</td>\n",
       "      <td>0.438623</td>\n",
       "      <td>45.038404</td>\n",
       "    </tr>\n",
       "    <tr>\n",
       "      <th>4</th>\n",
       "      <td>5</td>\n",
       "      <td>Brazil</td>\n",
       "      <td>36824580</td>\n",
       "      <td>697074</td>\n",
       "      <td>35919372</td>\n",
       "      <td>208134</td>\n",
       "      <td>63776166</td>\n",
       "      <td>215353593</td>\n",
       "      <td>1.892958</td>\n",
       "      <td>17.099589</td>\n",
       "    </tr>\n",
       "  </tbody>\n",
       "</table>\n",
       "</div>"
      ],
      "text/plain": [
       "   Serial Number  Country  Total Cases  Total Deaths  Total Recovered  \\\n",
       "0              1      USA    104196861       1132935        101322779   \n",
       "1              2    India     44682784        530740         44150289   \n",
       "2              3   France     39524311        164233         39264546   \n",
       "3              4  Germany     37779833        165711         37398100   \n",
       "4              5   Brazil     36824580        697074         35919372   \n",
       "\n",
       "   Active Cases  Total Test  Population  casetodeath(in %)  \\\n",
       "0       1741147  1159832679   334805269           1.087302   \n",
       "1          1755   915265788  1406631776           1.187795   \n",
       "2         95532   271490188    65584518           0.415524   \n",
       "3        216022   122332384    83883596           0.438623   \n",
       "4        208134    63776166   215353593           1.892958   \n",
       "\n",
       "   casetopopulation(in %)  \n",
       "0               31.121631  \n",
       "1                3.176580  \n",
       "2               60.264697  \n",
       "3               45.038404  \n",
       "4               17.099589  "
      ]
     },
     "execution_count": 43,
     "metadata": {},
     "output_type": "execute_result"
    }
   ],
   "source": [
    "cv.head()"
   ]
  },
  {
   "cell_type": "code",
   "execution_count": null,
   "id": "52cb3f05",
   "metadata": {},
   "outputs": [],
   "source": [
    "#### which country has maximum cases"
   ]
  },
  {
   "cell_type": "code",
   "execution_count": 44,
   "id": "1dc7f36e",
   "metadata": {},
   "outputs": [
    {
     "data": {
      "text/html": [
       "<div>\n",
       "<style scoped>\n",
       "    .dataframe tbody tr th:only-of-type {\n",
       "        vertical-align: middle;\n",
       "    }\n",
       "\n",
       "    .dataframe tbody tr th {\n",
       "        vertical-align: top;\n",
       "    }\n",
       "\n",
       "    .dataframe thead th {\n",
       "        text-align: right;\n",
       "    }\n",
       "</style>\n",
       "<table border=\"1\" class=\"dataframe\">\n",
       "  <thead>\n",
       "    <tr style=\"text-align: right;\">\n",
       "      <th></th>\n",
       "      <th>Serial Number</th>\n",
       "      <th>Country</th>\n",
       "      <th>Total Cases</th>\n",
       "      <th>Total Deaths</th>\n",
       "      <th>Total Recovered</th>\n",
       "      <th>Active Cases</th>\n",
       "      <th>Total Test</th>\n",
       "      <th>Population</th>\n",
       "      <th>casetodeath(in %)</th>\n",
       "      <th>casetopopulation(in %)</th>\n",
       "    </tr>\n",
       "  </thead>\n",
       "  <tbody>\n",
       "    <tr>\n",
       "      <th>0</th>\n",
       "      <td>1</td>\n",
       "      <td>USA</td>\n",
       "      <td>104196861</td>\n",
       "      <td>1132935</td>\n",
       "      <td>101322779</td>\n",
       "      <td>1741147</td>\n",
       "      <td>1159832679</td>\n",
       "      <td>334805269</td>\n",
       "      <td>1.087302</td>\n",
       "      <td>31.121631</td>\n",
       "    </tr>\n",
       "  </tbody>\n",
       "</table>\n",
       "</div>"
      ],
      "text/plain": [
       "   Serial Number Country  Total Cases  Total Deaths  Total Recovered  \\\n",
       "0              1     USA    104196861       1132935        101322779   \n",
       "\n",
       "   Active Cases  Total Test  Population  casetodeath(in %)  \\\n",
       "0       1741147  1159832679   334805269           1.087302   \n",
       "\n",
       "   casetopopulation(in %)  \n",
       "0               31.121631  "
      ]
     },
     "execution_count": 44,
     "metadata": {},
     "output_type": "execute_result"
    }
   ],
   "source": [
    "cv[cv['Total Cases']==cv['Total Cases'].max()]"
   ]
  },
  {
   "cell_type": "code",
   "execution_count": null,
   "id": "fbd698bd",
   "metadata": {},
   "outputs": [],
   "source": [
    "#### which country has minimum cases"
   ]
  },
  {
   "cell_type": "code",
   "execution_count": 45,
   "id": "7503b21a",
   "metadata": {},
   "outputs": [
    {
     "data": {
      "text/html": [
       "<div>\n",
       "<style scoped>\n",
       "    .dataframe tbody tr th:only-of-type {\n",
       "        vertical-align: middle;\n",
       "    }\n",
       "\n",
       "    .dataframe tbody tr th {\n",
       "        vertical-align: top;\n",
       "    }\n",
       "\n",
       "    .dataframe thead th {\n",
       "        text-align: right;\n",
       "    }\n",
       "</style>\n",
       "<table border=\"1\" class=\"dataframe\">\n",
       "  <thead>\n",
       "    <tr style=\"text-align: right;\">\n",
       "      <th></th>\n",
       "      <th>Serial Number</th>\n",
       "      <th>Country</th>\n",
       "      <th>Total Cases</th>\n",
       "      <th>Total Deaths</th>\n",
       "      <th>Total Recovered</th>\n",
       "      <th>Active Cases</th>\n",
       "      <th>Total Test</th>\n",
       "      <th>Population</th>\n",
       "      <th>casetodeath(in %)</th>\n",
       "      <th>casetopopulation(in %)</th>\n",
       "    </tr>\n",
       "  </thead>\n",
       "  <tbody>\n",
       "    <tr>\n",
       "      <th>224</th>\n",
       "      <td>225</td>\n",
       "      <td>Montserrat</td>\n",
       "      <td>1403</td>\n",
       "      <td>8</td>\n",
       "      <td>1376</td>\n",
       "      <td>19</td>\n",
       "      <td>17762</td>\n",
       "      <td>4965</td>\n",
       "      <td>0.570207</td>\n",
       "      <td>28.257805</td>\n",
       "    </tr>\n",
       "  </tbody>\n",
       "</table>\n",
       "</div>"
      ],
      "text/plain": [
       "     Serial Number     Country  Total Cases  Total Deaths  Total Recovered  \\\n",
       "224            225  Montserrat         1403             8             1376   \n",
       "\n",
       "     Active Cases  Total Test  Population  casetodeath(in %)  \\\n",
       "224            19       17762        4965           0.570207   \n",
       "\n",
       "     casetopopulation(in %)  \n",
       "224               28.257805  "
      ]
     },
     "execution_count": 45,
     "metadata": {},
     "output_type": "execute_result"
    }
   ],
   "source": [
    "cv[cv['Total Cases']==cv['Total Cases'].min()]"
   ]
  },
  {
   "cell_type": "code",
   "execution_count": null,
   "id": "bea7d55c",
   "metadata": {},
   "outputs": [],
   "source": [
    "### which country has maximum (total recovered)"
   ]
  },
  {
   "cell_type": "code",
   "execution_count": 46,
   "id": "4b295bbb",
   "metadata": {},
   "outputs": [
    {
     "data": {
      "text/html": [
       "<div>\n",
       "<style scoped>\n",
       "    .dataframe tbody tr th:only-of-type {\n",
       "        vertical-align: middle;\n",
       "    }\n",
       "\n",
       "    .dataframe tbody tr th {\n",
       "        vertical-align: top;\n",
       "    }\n",
       "\n",
       "    .dataframe thead th {\n",
       "        text-align: right;\n",
       "    }\n",
       "</style>\n",
       "<table border=\"1\" class=\"dataframe\">\n",
       "  <thead>\n",
       "    <tr style=\"text-align: right;\">\n",
       "      <th></th>\n",
       "      <th>Serial Number</th>\n",
       "      <th>Country</th>\n",
       "      <th>Total Cases</th>\n",
       "      <th>Total Deaths</th>\n",
       "      <th>Total Recovered</th>\n",
       "      <th>Active Cases</th>\n",
       "      <th>Total Test</th>\n",
       "      <th>Population</th>\n",
       "      <th>casetodeath(in %)</th>\n",
       "      <th>casetopopulation(in %)</th>\n",
       "    </tr>\n",
       "  </thead>\n",
       "  <tbody>\n",
       "    <tr>\n",
       "      <th>0</th>\n",
       "      <td>1</td>\n",
       "      <td>USA</td>\n",
       "      <td>104196861</td>\n",
       "      <td>1132935</td>\n",
       "      <td>101322779</td>\n",
       "      <td>1741147</td>\n",
       "      <td>1159832679</td>\n",
       "      <td>334805269</td>\n",
       "      <td>1.087302</td>\n",
       "      <td>31.121631</td>\n",
       "    </tr>\n",
       "  </tbody>\n",
       "</table>\n",
       "</div>"
      ],
      "text/plain": [
       "   Serial Number Country  Total Cases  Total Deaths  Total Recovered  \\\n",
       "0              1     USA    104196861       1132935        101322779   \n",
       "\n",
       "   Active Cases  Total Test  Population  casetodeath(in %)  \\\n",
       "0       1741147  1159832679   334805269           1.087302   \n",
       "\n",
       "   casetopopulation(in %)  \n",
       "0               31.121631  "
      ]
     },
     "execution_count": 46,
     "metadata": {},
     "output_type": "execute_result"
    }
   ],
   "source": [
    "cv[cv['Total Recovered']==cv['Total Recovered'].max()]"
   ]
  },
  {
   "cell_type": "code",
   "execution_count": null,
   "id": "1d0d17d7",
   "metadata": {},
   "outputs": [],
   "source": [
    "### which country has minimum (total recovered)"
   ]
  },
  {
   "cell_type": "code",
   "execution_count": 47,
   "id": "8c560e16",
   "metadata": {},
   "outputs": [
    {
     "data": {
      "text/html": [
       "<div>\n",
       "<style scoped>\n",
       "    .dataframe tbody tr th:only-of-type {\n",
       "        vertical-align: middle;\n",
       "    }\n",
       "\n",
       "    .dataframe tbody tr th {\n",
       "        vertical-align: top;\n",
       "    }\n",
       "\n",
       "    .dataframe thead th {\n",
       "        text-align: right;\n",
       "    }\n",
       "</style>\n",
       "<table border=\"1\" class=\"dataframe\">\n",
       "  <thead>\n",
       "    <tr style=\"text-align: right;\">\n",
       "      <th></th>\n",
       "      <th>Serial Number</th>\n",
       "      <th>Country</th>\n",
       "      <th>Total Cases</th>\n",
       "      <th>Total Deaths</th>\n",
       "      <th>Total Recovered</th>\n",
       "      <th>Active Cases</th>\n",
       "      <th>Total Test</th>\n",
       "      <th>Population</th>\n",
       "      <th>casetodeath(in %)</th>\n",
       "      <th>casetopopulation(in %)</th>\n",
       "    </tr>\n",
       "  </thead>\n",
       "  <tbody>\n",
       "    <tr>\n",
       "      <th>220</th>\n",
       "      <td>221</td>\n",
       "      <td>Wallis and Futuna</td>\n",
       "      <td>3427</td>\n",
       "      <td>7</td>\n",
       "      <td>438</td>\n",
       "      <td>2982</td>\n",
       "      <td>20508</td>\n",
       "      <td>10982</td>\n",
       "      <td>0.20426</td>\n",
       "      <td>31.205609</td>\n",
       "    </tr>\n",
       "  </tbody>\n",
       "</table>\n",
       "</div>"
      ],
      "text/plain": [
       "     Serial Number            Country  Total Cases  Total Deaths  \\\n",
       "220            221  Wallis and Futuna         3427             7   \n",
       "\n",
       "     Total Recovered  Active Cases  Total Test  Population  casetodeath(in %)  \\\n",
       "220              438          2982       20508       10982            0.20426   \n",
       "\n",
       "     casetopopulation(in %)  \n",
       "220               31.205609  "
      ]
     },
     "execution_count": 47,
     "metadata": {},
     "output_type": "execute_result"
    }
   ],
   "source": [
    "cv[cv['Total Recovered']==cv['Total Recovered'].min()]"
   ]
  },
  {
   "cell_type": "code",
   "execution_count": null,
   "id": "2b9b474f",
   "metadata": {},
   "outputs": [],
   "source": [
    "### which country has maximum (total deaths)"
   ]
  },
  {
   "cell_type": "code",
   "execution_count": 48,
   "id": "4f819881",
   "metadata": {},
   "outputs": [
    {
     "data": {
      "text/html": [
       "<div>\n",
       "<style scoped>\n",
       "    .dataframe tbody tr th:only-of-type {\n",
       "        vertical-align: middle;\n",
       "    }\n",
       "\n",
       "    .dataframe tbody tr th {\n",
       "        vertical-align: top;\n",
       "    }\n",
       "\n",
       "    .dataframe thead th {\n",
       "        text-align: right;\n",
       "    }\n",
       "</style>\n",
       "<table border=\"1\" class=\"dataframe\">\n",
       "  <thead>\n",
       "    <tr style=\"text-align: right;\">\n",
       "      <th></th>\n",
       "      <th>Serial Number</th>\n",
       "      <th>Country</th>\n",
       "      <th>Total Cases</th>\n",
       "      <th>Total Deaths</th>\n",
       "      <th>Total Recovered</th>\n",
       "      <th>Active Cases</th>\n",
       "      <th>Total Test</th>\n",
       "      <th>Population</th>\n",
       "      <th>casetodeath(in %)</th>\n",
       "      <th>casetopopulation(in %)</th>\n",
       "    </tr>\n",
       "  </thead>\n",
       "  <tbody>\n",
       "    <tr>\n",
       "      <th>0</th>\n",
       "      <td>1</td>\n",
       "      <td>USA</td>\n",
       "      <td>104196861</td>\n",
       "      <td>1132935</td>\n",
       "      <td>101322779</td>\n",
       "      <td>1741147</td>\n",
       "      <td>1159832679</td>\n",
       "      <td>334805269</td>\n",
       "      <td>1.087302</td>\n",
       "      <td>31.121631</td>\n",
       "    </tr>\n",
       "  </tbody>\n",
       "</table>\n",
       "</div>"
      ],
      "text/plain": [
       "   Serial Number Country  Total Cases  Total Deaths  Total Recovered  \\\n",
       "0              1     USA    104196861       1132935        101322779   \n",
       "\n",
       "   Active Cases  Total Test  Population  casetodeath(in %)  \\\n",
       "0       1741147  1159832679   334805269           1.087302   \n",
       "\n",
       "   casetopopulation(in %)  \n",
       "0               31.121631  "
      ]
     },
     "execution_count": 48,
     "metadata": {},
     "output_type": "execute_result"
    }
   ],
   "source": [
    "cv[cv['Total Deaths']==cv['Total Deaths'].max()]"
   ]
  },
  {
   "cell_type": "code",
   "execution_count": null,
   "id": "77bce1fc",
   "metadata": {},
   "outputs": [],
   "source": [
    "### which country has minimum (total deaths)"
   ]
  },
  {
   "cell_type": "code",
   "execution_count": 51,
   "id": "c6875a6d",
   "metadata": {},
   "outputs": [
    {
     "data": {
      "text/html": [
       "<div>\n",
       "<style scoped>\n",
       "    .dataframe tbody tr th:only-of-type {\n",
       "        vertical-align: middle;\n",
       "    }\n",
       "\n",
       "    .dataframe tbody tr th {\n",
       "        vertical-align: top;\n",
       "    }\n",
       "\n",
       "    .dataframe thead th {\n",
       "        text-align: right;\n",
       "    }\n",
       "</style>\n",
       "<table border=\"1\" class=\"dataframe\">\n",
       "  <thead>\n",
       "    <tr style=\"text-align: right;\">\n",
       "      <th></th>\n",
       "      <th>Serial Number</th>\n",
       "      <th>Country</th>\n",
       "      <th>Total Cases</th>\n",
       "      <th>Total Deaths</th>\n",
       "      <th>Total Recovered</th>\n",
       "      <th>Active Cases</th>\n",
       "      <th>Total Test</th>\n",
       "      <th>Population</th>\n",
       "      <th>casetodeath(in %)</th>\n",
       "      <th>casetopopulation(in %)</th>\n",
       "    </tr>\n",
       "  </thead>\n",
       "  <tbody>\n",
       "    <tr>\n",
       "      <th>216</th>\n",
       "      <td>217</td>\n",
       "      <td>Nauru</td>\n",
       "      <td>4621</td>\n",
       "      <td>1</td>\n",
       "      <td>4609</td>\n",
       "      <td>11</td>\n",
       "      <td>20509</td>\n",
       "      <td>10903</td>\n",
       "      <td>0.02164</td>\n",
       "      <td>42.38283</td>\n",
       "    </tr>\n",
       "  </tbody>\n",
       "</table>\n",
       "</div>"
      ],
      "text/plain": [
       "     Serial Number Country  Total Cases  Total Deaths  Total Recovered  \\\n",
       "216            217   Nauru         4621             1             4609   \n",
       "\n",
       "     Active Cases  Total Test  Population  casetodeath(in %)  \\\n",
       "216            11       20509       10903            0.02164   \n",
       "\n",
       "     casetopopulation(in %)  \n",
       "216                42.38283  "
      ]
     },
     "execution_count": 51,
     "metadata": {},
     "output_type": "execute_result"
    }
   ],
   "source": [
    "cv[cv['Total Deaths']==cv['Total Deaths'].min()]"
   ]
  },
  {
   "cell_type": "code",
   "execution_count": null,
   "id": "93328c39",
   "metadata": {},
   "outputs": [],
   "source": [
    "### which country has maximum (total test)"
   ]
  },
  {
   "cell_type": "code",
   "execution_count": 49,
   "id": "38d357ed",
   "metadata": {},
   "outputs": [
    {
     "data": {
      "text/html": [
       "<div>\n",
       "<style scoped>\n",
       "    .dataframe tbody tr th:only-of-type {\n",
       "        vertical-align: middle;\n",
       "    }\n",
       "\n",
       "    .dataframe tbody tr th {\n",
       "        vertical-align: top;\n",
       "    }\n",
       "\n",
       "    .dataframe thead th {\n",
       "        text-align: right;\n",
       "    }\n",
       "</style>\n",
       "<table border=\"1\" class=\"dataframe\">\n",
       "  <thead>\n",
       "    <tr style=\"text-align: right;\">\n",
       "      <th></th>\n",
       "      <th>Serial Number</th>\n",
       "      <th>Country</th>\n",
       "      <th>Total Cases</th>\n",
       "      <th>Total Deaths</th>\n",
       "      <th>Total Recovered</th>\n",
       "      <th>Active Cases</th>\n",
       "      <th>Total Test</th>\n",
       "      <th>Population</th>\n",
       "      <th>casetodeath(in %)</th>\n",
       "      <th>casetopopulation(in %)</th>\n",
       "    </tr>\n",
       "  </thead>\n",
       "  <tbody>\n",
       "    <tr>\n",
       "      <th>0</th>\n",
       "      <td>1</td>\n",
       "      <td>USA</td>\n",
       "      <td>104196861</td>\n",
       "      <td>1132935</td>\n",
       "      <td>101322779</td>\n",
       "      <td>1741147</td>\n",
       "      <td>1159832679</td>\n",
       "      <td>334805269</td>\n",
       "      <td>1.087302</td>\n",
       "      <td>31.121631</td>\n",
       "    </tr>\n",
       "  </tbody>\n",
       "</table>\n",
       "</div>"
      ],
      "text/plain": [
       "   Serial Number Country  Total Cases  Total Deaths  Total Recovered  \\\n",
       "0              1     USA    104196861       1132935        101322779   \n",
       "\n",
       "   Active Cases  Total Test  Population  casetodeath(in %)  \\\n",
       "0       1741147  1159832679   334805269           1.087302   \n",
       "\n",
       "   casetopopulation(in %)  \n",
       "0               31.121631  "
      ]
     },
     "execution_count": 49,
     "metadata": {},
     "output_type": "execute_result"
    }
   ],
   "source": [
    "cv[cv['Total Test']==cv['Total Test'].max()]"
   ]
  },
  {
   "cell_type": "code",
   "execution_count": null,
   "id": "37056c9e",
   "metadata": {},
   "outputs": [],
   "source": [
    "### which country has minimum (total test)"
   ]
  },
  {
   "cell_type": "code",
   "execution_count": 50,
   "id": "21051840",
   "metadata": {},
   "outputs": [
    {
     "data": {
      "text/html": [
       "<div>\n",
       "<style scoped>\n",
       "    .dataframe tbody tr th:only-of-type {\n",
       "        vertical-align: middle;\n",
       "    }\n",
       "\n",
       "    .dataframe tbody tr th {\n",
       "        vertical-align: top;\n",
       "    }\n",
       "\n",
       "    .dataframe thead th {\n",
       "        text-align: right;\n",
       "    }\n",
       "</style>\n",
       "<table border=\"1\" class=\"dataframe\">\n",
       "  <thead>\n",
       "    <tr style=\"text-align: right;\">\n",
       "      <th></th>\n",
       "      <th>Serial Number</th>\n",
       "      <th>Country</th>\n",
       "      <th>Total Cases</th>\n",
       "      <th>Total Deaths</th>\n",
       "      <th>Total Recovered</th>\n",
       "      <th>Active Cases</th>\n",
       "      <th>Total Test</th>\n",
       "      <th>Population</th>\n",
       "      <th>casetodeath(in %)</th>\n",
       "      <th>casetopopulation(in %)</th>\n",
       "    </tr>\n",
       "  </thead>\n",
       "  <tbody>\n",
       "    <tr>\n",
       "      <th>218</th>\n",
       "      <td>219</td>\n",
       "      <td>Macao</td>\n",
       "      <td>3488</td>\n",
       "      <td>120</td>\n",
       "      <td>3357</td>\n",
       "      <td>11</td>\n",
       "      <td>7850</td>\n",
       "      <td>667490</td>\n",
       "      <td>3.440367</td>\n",
       "      <td>0.522555</td>\n",
       "    </tr>\n",
       "  </tbody>\n",
       "</table>\n",
       "</div>"
      ],
      "text/plain": [
       "     Serial Number Country  Total Cases  Total Deaths  Total Recovered  \\\n",
       "218            219   Macao         3488           120             3357   \n",
       "\n",
       "     Active Cases  Total Test  Population  casetodeath(in %)  \\\n",
       "218            11        7850      667490           3.440367   \n",
       "\n",
       "     casetopopulation(in %)  \n",
       "218                0.522555  "
      ]
     },
     "execution_count": 50,
     "metadata": {},
     "output_type": "execute_result"
    }
   ],
   "source": [
    "cv[cv['Total Test']==cv['Total Test'].min()]"
   ]
  },
  {
   "cell_type": "code",
   "execution_count": null,
   "id": "914b7ce1",
   "metadata": {},
   "outputs": [],
   "source": [
    "### which country has maximum(active cases)"
   ]
  },
  {
   "cell_type": "code",
   "execution_count": 52,
   "id": "2fd28ff6",
   "metadata": {},
   "outputs": [
    {
     "data": {
      "text/html": [
       "<div>\n",
       "<style scoped>\n",
       "    .dataframe tbody tr th:only-of-type {\n",
       "        vertical-align: middle;\n",
       "    }\n",
       "\n",
       "    .dataframe tbody tr th {\n",
       "        vertical-align: top;\n",
       "    }\n",
       "\n",
       "    .dataframe thead th {\n",
       "        text-align: right;\n",
       "    }\n",
       "</style>\n",
       "<table border=\"1\" class=\"dataframe\">\n",
       "  <thead>\n",
       "    <tr style=\"text-align: right;\">\n",
       "      <th></th>\n",
       "      <th>Serial Number</th>\n",
       "      <th>Country</th>\n",
       "      <th>Total Cases</th>\n",
       "      <th>Total Deaths</th>\n",
       "      <th>Total Recovered</th>\n",
       "      <th>Active Cases</th>\n",
       "      <th>Total Test</th>\n",
       "      <th>Population</th>\n",
       "      <th>casetodeath(in %)</th>\n",
       "      <th>casetopopulation(in %)</th>\n",
       "    </tr>\n",
       "  </thead>\n",
       "  <tbody>\n",
       "    <tr>\n",
       "      <th>5</th>\n",
       "      <td>6</td>\n",
       "      <td>Japan</td>\n",
       "      <td>32588442</td>\n",
       "      <td>68399</td>\n",
       "      <td>21567425</td>\n",
       "      <td>10952618</td>\n",
       "      <td>92144639</td>\n",
       "      <td>125584838</td>\n",
       "      <td>0.209887</td>\n",
       "      <td>25.949344</td>\n",
       "    </tr>\n",
       "  </tbody>\n",
       "</table>\n",
       "</div>"
      ],
      "text/plain": [
       "   Serial Number Country  Total Cases  Total Deaths  Total Recovered  \\\n",
       "5              6   Japan     32588442         68399         21567425   \n",
       "\n",
       "   Active Cases  Total Test  Population  casetodeath(in %)  \\\n",
       "5      10952618    92144639   125584838           0.209887   \n",
       "\n",
       "   casetopopulation(in %)  \n",
       "5               25.949344  "
      ]
     },
     "execution_count": 52,
     "metadata": {},
     "output_type": "execute_result"
    }
   ],
   "source": [
    "cv[cv['Active Cases']==cv['Active Cases'].max()]"
   ]
  },
  {
   "cell_type": "code",
   "execution_count": null,
   "id": "0537a9a6",
   "metadata": {},
   "outputs": [],
   "source": [
    "### which country has minimum(active cases)"
   ]
  },
  {
   "cell_type": "code",
   "execution_count": 53,
   "id": "35f7f7f9",
   "metadata": {},
   "outputs": [
    {
     "data": {
      "text/html": [
       "<div>\n",
       "<style scoped>\n",
       "    .dataframe tbody tr th:only-of-type {\n",
       "        vertical-align: middle;\n",
       "    }\n",
       "\n",
       "    .dataframe tbody tr th {\n",
       "        vertical-align: top;\n",
       "    }\n",
       "\n",
       "    .dataframe thead th {\n",
       "        text-align: right;\n",
       "    }\n",
       "</style>\n",
       "<table border=\"1\" class=\"dataframe\">\n",
       "  <thead>\n",
       "    <tr style=\"text-align: right;\">\n",
       "      <th></th>\n",
       "      <th>Serial Number</th>\n",
       "      <th>Country</th>\n",
       "      <th>Total Cases</th>\n",
       "      <th>Total Deaths</th>\n",
       "      <th>Total Recovered</th>\n",
       "      <th>Active Cases</th>\n",
       "      <th>Total Test</th>\n",
       "      <th>Population</th>\n",
       "      <th>casetodeath(in %)</th>\n",
       "      <th>casetopopulation(in %)</th>\n",
       "    </tr>\n",
       "  </thead>\n",
       "  <tbody>\n",
       "    <tr>\n",
       "      <th>148</th>\n",
       "      <td>149</td>\n",
       "      <td>Syria</td>\n",
       "      <td>57453</td>\n",
       "      <td>3164</td>\n",
       "      <td>54289</td>\n",
       "      <td>0</td>\n",
       "      <td>146269</td>\n",
       "      <td>19364809</td>\n",
       "      <td>5.507110</td>\n",
       "      <td>0.296688</td>\n",
       "    </tr>\n",
       "    <tr>\n",
       "      <th>199</th>\n",
       "      <td>200</td>\n",
       "      <td>Eritrea</td>\n",
       "      <td>10189</td>\n",
       "      <td>103</td>\n",
       "      <td>10086</td>\n",
       "      <td>0</td>\n",
       "      <td>23693</td>\n",
       "      <td>3662244</td>\n",
       "      <td>1.010894</td>\n",
       "      <td>0.278217</td>\n",
       "    </tr>\n",
       "  </tbody>\n",
       "</table>\n",
       "</div>"
      ],
      "text/plain": [
       "     Serial Number  Country  Total Cases  Total Deaths  Total Recovered  \\\n",
       "148            149    Syria        57453          3164            54289   \n",
       "199            200  Eritrea        10189           103            10086   \n",
       "\n",
       "     Active Cases  Total Test  Population  casetodeath(in %)  \\\n",
       "148             0      146269    19364809           5.507110   \n",
       "199             0       23693     3662244           1.010894   \n",
       "\n",
       "     casetopopulation(in %)  \n",
       "148                0.296688  \n",
       "199                0.278217  "
      ]
     },
     "execution_count": 53,
     "metadata": {},
     "output_type": "execute_result"
    }
   ],
   "source": [
    "cv[cv['Active Cases']==cv['Active Cases'].min()]"
   ]
  },
  {
   "cell_type": "code",
   "execution_count": null,
   "id": "b9d587d3",
   "metadata": {},
   "outputs": [],
   "source": [
    "### which country has maximum(population)"
   ]
  },
  {
   "cell_type": "code",
   "execution_count": 54,
   "id": "fa7f30da",
   "metadata": {},
   "outputs": [
    {
     "data": {
      "text/html": [
       "<div>\n",
       "<style scoped>\n",
       "    .dataframe tbody tr th:only-of-type {\n",
       "        vertical-align: middle;\n",
       "    }\n",
       "\n",
       "    .dataframe tbody tr th {\n",
       "        vertical-align: top;\n",
       "    }\n",
       "\n",
       "    .dataframe thead th {\n",
       "        text-align: right;\n",
       "    }\n",
       "</style>\n",
       "<table border=\"1\" class=\"dataframe\">\n",
       "  <thead>\n",
       "    <tr style=\"text-align: right;\">\n",
       "      <th></th>\n",
       "      <th>Serial Number</th>\n",
       "      <th>Country</th>\n",
       "      <th>Total Cases</th>\n",
       "      <th>Total Deaths</th>\n",
       "      <th>Total Recovered</th>\n",
       "      <th>Active Cases</th>\n",
       "      <th>Total Test</th>\n",
       "      <th>Population</th>\n",
       "      <th>casetodeath(in %)</th>\n",
       "      <th>casetopopulation(in %)</th>\n",
       "    </tr>\n",
       "  </thead>\n",
       "  <tbody>\n",
       "    <tr>\n",
       "      <th>1</th>\n",
       "      <td>2</td>\n",
       "      <td>India</td>\n",
       "      <td>44682784</td>\n",
       "      <td>530740</td>\n",
       "      <td>44150289</td>\n",
       "      <td>1755</td>\n",
       "      <td>915265788</td>\n",
       "      <td>1406631776</td>\n",
       "      <td>1.187795</td>\n",
       "      <td>3.17658</td>\n",
       "    </tr>\n",
       "  </tbody>\n",
       "</table>\n",
       "</div>"
      ],
      "text/plain": [
       "   Serial Number Country  Total Cases  Total Deaths  Total Recovered  \\\n",
       "1              2   India     44682784        530740         44150289   \n",
       "\n",
       "   Active Cases  Total Test  Population  casetodeath(in %)  \\\n",
       "1          1755   915265788  1406631776           1.187795   \n",
       "\n",
       "   casetopopulation(in %)  \n",
       "1                 3.17658  "
      ]
     },
     "execution_count": 54,
     "metadata": {},
     "output_type": "execute_result"
    }
   ],
   "source": [
    "cv[cv['Population']==cv['Population'].max()]"
   ]
  },
  {
   "cell_type": "code",
   "execution_count": null,
   "id": "5985f148",
   "metadata": {},
   "outputs": [],
   "source": [
    "### which country has minimum(population)"
   ]
  },
  {
   "cell_type": "code",
   "execution_count": 55,
   "id": "cf9c7c9f",
   "metadata": {},
   "outputs": [
    {
     "data": {
      "text/html": [
       "<div>\n",
       "<style scoped>\n",
       "    .dataframe tbody tr th:only-of-type {\n",
       "        vertical-align: middle;\n",
       "    }\n",
       "\n",
       "    .dataframe tbody tr th {\n",
       "        vertical-align: top;\n",
       "    }\n",
       "\n",
       "    .dataframe thead th {\n",
       "        text-align: right;\n",
       "    }\n",
       "</style>\n",
       "<table border=\"1\" class=\"dataframe\">\n",
       "  <thead>\n",
       "    <tr style=\"text-align: right;\">\n",
       "      <th></th>\n",
       "      <th>Serial Number</th>\n",
       "      <th>Country</th>\n",
       "      <th>Total Cases</th>\n",
       "      <th>Total Deaths</th>\n",
       "      <th>Total Recovered</th>\n",
       "      <th>Active Cases</th>\n",
       "      <th>Total Test</th>\n",
       "      <th>Population</th>\n",
       "      <th>casetodeath(in %)</th>\n",
       "      <th>casetopopulation(in %)</th>\n",
       "    </tr>\n",
       "  </thead>\n",
       "  <tbody>\n",
       "    <tr>\n",
       "      <th>224</th>\n",
       "      <td>225</td>\n",
       "      <td>Montserrat</td>\n",
       "      <td>1403</td>\n",
       "      <td>8</td>\n",
       "      <td>1376</td>\n",
       "      <td>19</td>\n",
       "      <td>17762</td>\n",
       "      <td>4965</td>\n",
       "      <td>0.570207</td>\n",
       "      <td>28.257805</td>\n",
       "    </tr>\n",
       "  </tbody>\n",
       "</table>\n",
       "</div>"
      ],
      "text/plain": [
       "     Serial Number     Country  Total Cases  Total Deaths  Total Recovered  \\\n",
       "224            225  Montserrat         1403             8             1376   \n",
       "\n",
       "     Active Cases  Total Test  Population  casetodeath(in %)  \\\n",
       "224            19       17762        4965           0.570207   \n",
       "\n",
       "     casetopopulation(in %)  \n",
       "224               28.257805  "
      ]
     },
     "execution_count": 55,
     "metadata": {},
     "output_type": "execute_result"
    }
   ],
   "source": [
    "cv[cv['Population']==cv['Population'].min()]"
   ]
  },
  {
   "cell_type": "code",
   "execution_count": null,
   "id": "c98b031e",
   "metadata": {},
   "outputs": [],
   "source": [
    "### ratio of total deatg"
   ]
  },
  {
   "cell_type": "code",
   "execution_count": 24,
   "id": "84ea5621",
   "metadata": {},
   "outputs": [],
   "source": [
    "cv['casetodeath(in %)']=(cv['Total Deaths']/cv['Total Cases'])*100"
   ]
  },
  {
   "cell_type": "code",
   "execution_count": 25,
   "id": "f32a1346",
   "metadata": {},
   "outputs": [
    {
     "data": {
      "text/html": [
       "<div>\n",
       "<style scoped>\n",
       "    .dataframe tbody tr th:only-of-type {\n",
       "        vertical-align: middle;\n",
       "    }\n",
       "\n",
       "    .dataframe tbody tr th {\n",
       "        vertical-align: top;\n",
       "    }\n",
       "\n",
       "    .dataframe thead th {\n",
       "        text-align: right;\n",
       "    }\n",
       "</style>\n",
       "<table border=\"1\" class=\"dataframe\">\n",
       "  <thead>\n",
       "    <tr style=\"text-align: right;\">\n",
       "      <th></th>\n",
       "      <th>Serial Number</th>\n",
       "      <th>Country</th>\n",
       "      <th>Total Cases</th>\n",
       "      <th>Total Deaths</th>\n",
       "      <th>Total Recovered</th>\n",
       "      <th>Active Cases</th>\n",
       "      <th>Total Test</th>\n",
       "      <th>Population</th>\n",
       "      <th>casetodeath(in %)</th>\n",
       "    </tr>\n",
       "  </thead>\n",
       "  <tbody>\n",
       "    <tr>\n",
       "      <th>0</th>\n",
       "      <td>1</td>\n",
       "      <td>USA</td>\n",
       "      <td>104196861</td>\n",
       "      <td>1132935</td>\n",
       "      <td>101322779</td>\n",
       "      <td>1741147</td>\n",
       "      <td>1159832679</td>\n",
       "      <td>334805269</td>\n",
       "      <td>1.087302</td>\n",
       "    </tr>\n",
       "    <tr>\n",
       "      <th>1</th>\n",
       "      <td>2</td>\n",
       "      <td>India</td>\n",
       "      <td>44682784</td>\n",
       "      <td>530740</td>\n",
       "      <td>44150289</td>\n",
       "      <td>1755</td>\n",
       "      <td>915265788</td>\n",
       "      <td>1406631776</td>\n",
       "      <td>1.187795</td>\n",
       "    </tr>\n",
       "    <tr>\n",
       "      <th>2</th>\n",
       "      <td>3</td>\n",
       "      <td>France</td>\n",
       "      <td>39524311</td>\n",
       "      <td>164233</td>\n",
       "      <td>39264546</td>\n",
       "      <td>95532</td>\n",
       "      <td>271490188</td>\n",
       "      <td>65584518</td>\n",
       "      <td>0.415524</td>\n",
       "    </tr>\n",
       "    <tr>\n",
       "      <th>3</th>\n",
       "      <td>4</td>\n",
       "      <td>Germany</td>\n",
       "      <td>37779833</td>\n",
       "      <td>165711</td>\n",
       "      <td>37398100</td>\n",
       "      <td>216022</td>\n",
       "      <td>122332384</td>\n",
       "      <td>83883596</td>\n",
       "      <td>0.438623</td>\n",
       "    </tr>\n",
       "    <tr>\n",
       "      <th>4</th>\n",
       "      <td>5</td>\n",
       "      <td>Brazil</td>\n",
       "      <td>36824580</td>\n",
       "      <td>697074</td>\n",
       "      <td>35919372</td>\n",
       "      <td>208134</td>\n",
       "      <td>63776166</td>\n",
       "      <td>215353593</td>\n",
       "      <td>1.892958</td>\n",
       "    </tr>\n",
       "    <tr>\n",
       "      <th>...</th>\n",
       "      <td>...</td>\n",
       "      <td>...</td>\n",
       "      <td>...</td>\n",
       "      <td>...</td>\n",
       "      <td>...</td>\n",
       "      <td>...</td>\n",
       "      <td>...</td>\n",
       "      <td>...</td>\n",
       "      <td>...</td>\n",
       "    </tr>\n",
       "    <tr>\n",
       "      <th>217</th>\n",
       "      <td>218</td>\n",
       "      <td>Anguilla</td>\n",
       "      <td>3904</td>\n",
       "      <td>12</td>\n",
       "      <td>3879</td>\n",
       "      <td>13</td>\n",
       "      <td>51382</td>\n",
       "      <td>15230</td>\n",
       "      <td>0.307377</td>\n",
       "    </tr>\n",
       "    <tr>\n",
       "      <th>218</th>\n",
       "      <td>219</td>\n",
       "      <td>Macao</td>\n",
       "      <td>3488</td>\n",
       "      <td>120</td>\n",
       "      <td>3357</td>\n",
       "      <td>11</td>\n",
       "      <td>7850</td>\n",
       "      <td>667490</td>\n",
       "      <td>3.440367</td>\n",
       "    </tr>\n",
       "    <tr>\n",
       "      <th>219</th>\n",
       "      <td>220</td>\n",
       "      <td>Saint Pierre Miquelon</td>\n",
       "      <td>3452</td>\n",
       "      <td>2</td>\n",
       "      <td>2449</td>\n",
       "      <td>1001</td>\n",
       "      <td>25400</td>\n",
       "      <td>5759</td>\n",
       "      <td>0.057937</td>\n",
       "    </tr>\n",
       "    <tr>\n",
       "      <th>220</th>\n",
       "      <td>221</td>\n",
       "      <td>Wallis and Futuna</td>\n",
       "      <td>3427</td>\n",
       "      <td>7</td>\n",
       "      <td>438</td>\n",
       "      <td>2982</td>\n",
       "      <td>20508</td>\n",
       "      <td>10982</td>\n",
       "      <td>0.204260</td>\n",
       "    </tr>\n",
       "    <tr>\n",
       "      <th>224</th>\n",
       "      <td>225</td>\n",
       "      <td>Montserrat</td>\n",
       "      <td>1403</td>\n",
       "      <td>8</td>\n",
       "      <td>1376</td>\n",
       "      <td>19</td>\n",
       "      <td>17762</td>\n",
       "      <td>4965</td>\n",
       "      <td>0.570207</td>\n",
       "    </tr>\n",
       "  </tbody>\n",
       "</table>\n",
       "<p>195 rows × 9 columns</p>\n",
       "</div>"
      ],
      "text/plain": [
       "     Serial Number                Country  Total Cases  Total Deaths  \\\n",
       "0                1                    USA    104196861       1132935   \n",
       "1                2                  India     44682784        530740   \n",
       "2                3                 France     39524311        164233   \n",
       "3                4                Germany     37779833        165711   \n",
       "4                5                 Brazil     36824580        697074   \n",
       "..             ...                    ...          ...           ...   \n",
       "217            218               Anguilla         3904            12   \n",
       "218            219                  Macao         3488           120   \n",
       "219            220  Saint Pierre Miquelon         3452             2   \n",
       "220            221      Wallis and Futuna         3427             7   \n",
       "224            225             Montserrat         1403             8   \n",
       "\n",
       "     Total Recovered  Active Cases  Total Test  Population  casetodeath(in %)  \n",
       "0          101322779       1741147  1159832679   334805269           1.087302  \n",
       "1           44150289          1755   915265788  1406631776           1.187795  \n",
       "2           39264546         95532   271490188    65584518           0.415524  \n",
       "3           37398100        216022   122332384    83883596           0.438623  \n",
       "4           35919372        208134    63776166   215353593           1.892958  \n",
       "..               ...           ...         ...         ...                ...  \n",
       "217             3879            13       51382       15230           0.307377  \n",
       "218             3357            11        7850      667490           3.440367  \n",
       "219             2449          1001       25400        5759           0.057937  \n",
       "220              438          2982       20508       10982           0.204260  \n",
       "224             1376            19       17762        4965           0.570207  \n",
       "\n",
       "[195 rows x 9 columns]"
      ]
     },
     "execution_count": 25,
     "metadata": {},
     "output_type": "execute_result"
    }
   ],
   "source": [
    "cv"
   ]
  },
  {
   "cell_type": "code",
   "execution_count": 26,
   "id": "1d0cfb11",
   "metadata": {},
   "outputs": [],
   "source": [
    "cv['casetopopulation(in %)']=(cv['Total Cases']/cv['Population'])*100"
   ]
  },
  {
   "cell_type": "code",
   "execution_count": 27,
   "id": "b0b216be",
   "metadata": {},
   "outputs": [
    {
     "data": {
      "text/html": [
       "<div>\n",
       "<style scoped>\n",
       "    .dataframe tbody tr th:only-of-type {\n",
       "        vertical-align: middle;\n",
       "    }\n",
       "\n",
       "    .dataframe tbody tr th {\n",
       "        vertical-align: top;\n",
       "    }\n",
       "\n",
       "    .dataframe thead th {\n",
       "        text-align: right;\n",
       "    }\n",
       "</style>\n",
       "<table border=\"1\" class=\"dataframe\">\n",
       "  <thead>\n",
       "    <tr style=\"text-align: right;\">\n",
       "      <th></th>\n",
       "      <th>Serial Number</th>\n",
       "      <th>Country</th>\n",
       "      <th>Total Cases</th>\n",
       "      <th>Total Deaths</th>\n",
       "      <th>Total Recovered</th>\n",
       "      <th>Active Cases</th>\n",
       "      <th>Total Test</th>\n",
       "      <th>Population</th>\n",
       "      <th>casetodeath(in %)</th>\n",
       "      <th>casetopopulation(in %)</th>\n",
       "    </tr>\n",
       "  </thead>\n",
       "  <tbody>\n",
       "    <tr>\n",
       "      <th>0</th>\n",
       "      <td>1</td>\n",
       "      <td>USA</td>\n",
       "      <td>104196861</td>\n",
       "      <td>1132935</td>\n",
       "      <td>101322779</td>\n",
       "      <td>1741147</td>\n",
       "      <td>1159832679</td>\n",
       "      <td>334805269</td>\n",
       "      <td>1.087302</td>\n",
       "      <td>31.121631</td>\n",
       "    </tr>\n",
       "    <tr>\n",
       "      <th>1</th>\n",
       "      <td>2</td>\n",
       "      <td>India</td>\n",
       "      <td>44682784</td>\n",
       "      <td>530740</td>\n",
       "      <td>44150289</td>\n",
       "      <td>1755</td>\n",
       "      <td>915265788</td>\n",
       "      <td>1406631776</td>\n",
       "      <td>1.187795</td>\n",
       "      <td>3.176580</td>\n",
       "    </tr>\n",
       "    <tr>\n",
       "      <th>2</th>\n",
       "      <td>3</td>\n",
       "      <td>France</td>\n",
       "      <td>39524311</td>\n",
       "      <td>164233</td>\n",
       "      <td>39264546</td>\n",
       "      <td>95532</td>\n",
       "      <td>271490188</td>\n",
       "      <td>65584518</td>\n",
       "      <td>0.415524</td>\n",
       "      <td>60.264697</td>\n",
       "    </tr>\n",
       "    <tr>\n",
       "      <th>3</th>\n",
       "      <td>4</td>\n",
       "      <td>Germany</td>\n",
       "      <td>37779833</td>\n",
       "      <td>165711</td>\n",
       "      <td>37398100</td>\n",
       "      <td>216022</td>\n",
       "      <td>122332384</td>\n",
       "      <td>83883596</td>\n",
       "      <td>0.438623</td>\n",
       "      <td>45.038404</td>\n",
       "    </tr>\n",
       "    <tr>\n",
       "      <th>4</th>\n",
       "      <td>5</td>\n",
       "      <td>Brazil</td>\n",
       "      <td>36824580</td>\n",
       "      <td>697074</td>\n",
       "      <td>35919372</td>\n",
       "      <td>208134</td>\n",
       "      <td>63776166</td>\n",
       "      <td>215353593</td>\n",
       "      <td>1.892958</td>\n",
       "      <td>17.099589</td>\n",
       "    </tr>\n",
       "    <tr>\n",
       "      <th>...</th>\n",
       "      <td>...</td>\n",
       "      <td>...</td>\n",
       "      <td>...</td>\n",
       "      <td>...</td>\n",
       "      <td>...</td>\n",
       "      <td>...</td>\n",
       "      <td>...</td>\n",
       "      <td>...</td>\n",
       "      <td>...</td>\n",
       "      <td>...</td>\n",
       "    </tr>\n",
       "    <tr>\n",
       "      <th>217</th>\n",
       "      <td>218</td>\n",
       "      <td>Anguilla</td>\n",
       "      <td>3904</td>\n",
       "      <td>12</td>\n",
       "      <td>3879</td>\n",
       "      <td>13</td>\n",
       "      <td>51382</td>\n",
       "      <td>15230</td>\n",
       "      <td>0.307377</td>\n",
       "      <td>25.633618</td>\n",
       "    </tr>\n",
       "    <tr>\n",
       "      <th>218</th>\n",
       "      <td>219</td>\n",
       "      <td>Macao</td>\n",
       "      <td>3488</td>\n",
       "      <td>120</td>\n",
       "      <td>3357</td>\n",
       "      <td>11</td>\n",
       "      <td>7850</td>\n",
       "      <td>667490</td>\n",
       "      <td>3.440367</td>\n",
       "      <td>0.522555</td>\n",
       "    </tr>\n",
       "    <tr>\n",
       "      <th>219</th>\n",
       "      <td>220</td>\n",
       "      <td>Saint Pierre Miquelon</td>\n",
       "      <td>3452</td>\n",
       "      <td>2</td>\n",
       "      <td>2449</td>\n",
       "      <td>1001</td>\n",
       "      <td>25400</td>\n",
       "      <td>5759</td>\n",
       "      <td>0.057937</td>\n",
       "      <td>59.940962</td>\n",
       "    </tr>\n",
       "    <tr>\n",
       "      <th>220</th>\n",
       "      <td>221</td>\n",
       "      <td>Wallis and Futuna</td>\n",
       "      <td>3427</td>\n",
       "      <td>7</td>\n",
       "      <td>438</td>\n",
       "      <td>2982</td>\n",
       "      <td>20508</td>\n",
       "      <td>10982</td>\n",
       "      <td>0.204260</td>\n",
       "      <td>31.205609</td>\n",
       "    </tr>\n",
       "    <tr>\n",
       "      <th>224</th>\n",
       "      <td>225</td>\n",
       "      <td>Montserrat</td>\n",
       "      <td>1403</td>\n",
       "      <td>8</td>\n",
       "      <td>1376</td>\n",
       "      <td>19</td>\n",
       "      <td>17762</td>\n",
       "      <td>4965</td>\n",
       "      <td>0.570207</td>\n",
       "      <td>28.257805</td>\n",
       "    </tr>\n",
       "  </tbody>\n",
       "</table>\n",
       "<p>195 rows × 10 columns</p>\n",
       "</div>"
      ],
      "text/plain": [
       "     Serial Number                Country  Total Cases  Total Deaths  \\\n",
       "0                1                    USA    104196861       1132935   \n",
       "1                2                  India     44682784        530740   \n",
       "2                3                 France     39524311        164233   \n",
       "3                4                Germany     37779833        165711   \n",
       "4                5                 Brazil     36824580        697074   \n",
       "..             ...                    ...          ...           ...   \n",
       "217            218               Anguilla         3904            12   \n",
       "218            219                  Macao         3488           120   \n",
       "219            220  Saint Pierre Miquelon         3452             2   \n",
       "220            221      Wallis and Futuna         3427             7   \n",
       "224            225             Montserrat         1403             8   \n",
       "\n",
       "     Total Recovered  Active Cases  Total Test  Population  casetodeath(in %)  \\\n",
       "0          101322779       1741147  1159832679   334805269           1.087302   \n",
       "1           44150289          1755   915265788  1406631776           1.187795   \n",
       "2           39264546         95532   271490188    65584518           0.415524   \n",
       "3           37398100        216022   122332384    83883596           0.438623   \n",
       "4           35919372        208134    63776166   215353593           1.892958   \n",
       "..               ...           ...         ...         ...                ...   \n",
       "217             3879            13       51382       15230           0.307377   \n",
       "218             3357            11        7850      667490           3.440367   \n",
       "219             2449          1001       25400        5759           0.057937   \n",
       "220              438          2982       20508       10982           0.204260   \n",
       "224             1376            19       17762        4965           0.570207   \n",
       "\n",
       "     casetopopulation(in %)  \n",
       "0                 31.121631  \n",
       "1                  3.176580  \n",
       "2                 60.264697  \n",
       "3                 45.038404  \n",
       "4                 17.099589  \n",
       "..                      ...  \n",
       "217               25.633618  \n",
       "218                0.522555  \n",
       "219               59.940962  \n",
       "220               31.205609  \n",
       "224               28.257805  \n",
       "\n",
       "[195 rows x 10 columns]"
      ]
     },
     "execution_count": 27,
     "metadata": {},
     "output_type": "execute_result"
    }
   ],
   "source": [
    "cv"
   ]
  },
  {
   "cell_type": "markdown",
   "id": "d52229b6",
   "metadata": {},
   "source": [
    "## total world population to total world cases ratio"
   ]
  },
  {
   "cell_type": "code",
   "execution_count": 28,
   "id": "030490d4",
   "metadata": {},
   "outputs": [],
   "source": [
    "totalratio=(cv[\"Total Deaths\"].sum())/(cv[\"Population\"].sum())*100"
   ]
  },
  {
   "cell_type": "code",
   "execution_count": 29,
   "id": "d63e93c6",
   "metadata": {},
   "outputs": [
    {
     "data": {
      "text/plain": [
       "0.10534187800225203"
      ]
     },
     "execution_count": 29,
     "metadata": {},
     "output_type": "execute_result"
    }
   ],
   "source": [
    "totalratio"
   ]
  },
  {
   "cell_type": "code",
   "execution_count": 30,
   "id": "c9db4b7b",
   "metadata": {},
   "outputs": [],
   "source": [
    "totalratio=(cv[\"Total Cases\"].sum())/(cv[\"Population\"].sum())*100"
   ]
  },
  {
   "cell_type": "code",
   "execution_count": 31,
   "id": "fafb8664",
   "metadata": {},
   "outputs": [
    {
     "data": {
      "text/plain": [
       "10.380024154603886"
      ]
     },
     "execution_count": 31,
     "metadata": {},
     "output_type": "execute_result"
    }
   ],
   "source": [
    "totalratio"
   ]
  },
  {
   "cell_type": "code",
   "execution_count": 32,
   "id": "12246e3c",
   "metadata": {},
   "outputs": [],
   "source": [
    "totalratio=(cv[\"Total Cases\"].sum())/(cv[\"Total Deaths\"].sum())*100"
   ]
  },
  {
   "cell_type": "code",
   "execution_count": 33,
   "id": "6021de53",
   "metadata": {},
   "outputs": [
    {
     "data": {
      "text/plain": [
       "9853.65398021666"
      ]
     },
     "execution_count": 33,
     "metadata": {},
     "output_type": "execute_result"
    }
   ],
   "source": [
    "totalratio"
   ]
  },
  {
   "cell_type": "code",
   "execution_count": 34,
   "id": "cd9f65a3",
   "metadata": {},
   "outputs": [],
   "source": [
    "# Sorting by column 'Country'\n",
    "cv2=cv.sort_values(by=['casetodeath(in %)'],ascending=False)"
   ]
  },
  {
   "cell_type": "code",
   "execution_count": 35,
   "id": "964c3390",
   "metadata": {},
   "outputs": [
    {
     "data": {
      "text/html": [
       "<div>\n",
       "<style scoped>\n",
       "    .dataframe tbody tr th:only-of-type {\n",
       "        vertical-align: middle;\n",
       "    }\n",
       "\n",
       "    .dataframe tbody tr th {\n",
       "        vertical-align: top;\n",
       "    }\n",
       "\n",
       "    .dataframe thead th {\n",
       "        text-align: right;\n",
       "    }\n",
       "</style>\n",
       "<table border=\"1\" class=\"dataframe\">\n",
       "  <thead>\n",
       "    <tr style=\"text-align: right;\">\n",
       "      <th></th>\n",
       "      <th>Serial Number</th>\n",
       "      <th>Country</th>\n",
       "      <th>Total Cases</th>\n",
       "      <th>Total Deaths</th>\n",
       "      <th>Total Recovered</th>\n",
       "      <th>Active Cases</th>\n",
       "      <th>Total Test</th>\n",
       "      <th>Population</th>\n",
       "      <th>casetodeath(in %)</th>\n",
       "      <th>casetopopulation(in %)</th>\n",
       "    </tr>\n",
       "  </thead>\n",
       "  <tbody>\n",
       "    <tr>\n",
       "      <th>196</th>\n",
       "      <td>197</td>\n",
       "      <td>Yemen</td>\n",
       "      <td>11945</td>\n",
       "      <td>2159</td>\n",
       "      <td>9124</td>\n",
       "      <td>662</td>\n",
       "      <td>329592</td>\n",
       "      <td>31154867</td>\n",
       "      <td>18.074508</td>\n",
       "      <td>0.038341</td>\n",
       "    </tr>\n",
       "    <tr>\n",
       "      <th>144</th>\n",
       "      <td>145</td>\n",
       "      <td>Sudan</td>\n",
       "      <td>63742</td>\n",
       "      <td>5001</td>\n",
       "      <td>58284</td>\n",
       "      <td>457</td>\n",
       "      <td>562941</td>\n",
       "      <td>45992020</td>\n",
       "      <td>7.845690</td>\n",
       "      <td>0.138594</td>\n",
       "    </tr>\n",
       "    <tr>\n",
       "      <th>148</th>\n",
       "      <td>149</td>\n",
       "      <td>Syria</td>\n",
       "      <td>57453</td>\n",
       "      <td>3164</td>\n",
       "      <td>54289</td>\n",
       "      <td>0</td>\n",
       "      <td>146269</td>\n",
       "      <td>19364809</td>\n",
       "      <td>5.507110</td>\n",
       "      <td>0.296688</td>\n",
       "    </tr>\n",
       "    <tr>\n",
       "      <th>170</th>\n",
       "      <td>171</td>\n",
       "      <td>Somalia</td>\n",
       "      <td>27318</td>\n",
       "      <td>1361</td>\n",
       "      <td>13182</td>\n",
       "      <td>12775</td>\n",
       "      <td>400466</td>\n",
       "      <td>16841795</td>\n",
       "      <td>4.982063</td>\n",
       "      <td>0.162204</td>\n",
       "    </tr>\n",
       "    <tr>\n",
       "      <th>34</th>\n",
       "      <td>35</td>\n",
       "      <td>Peru</td>\n",
       "      <td>4481621</td>\n",
       "      <td>218931</td>\n",
       "      <td>4258688</td>\n",
       "      <td>4002</td>\n",
       "      <td>37754603</td>\n",
       "      <td>33684208</td>\n",
       "      <td>4.885085</td>\n",
       "      <td>13.304813</td>\n",
       "    </tr>\n",
       "  </tbody>\n",
       "</table>\n",
       "</div>"
      ],
      "text/plain": [
       "     Serial Number  Country  Total Cases  Total Deaths  Total Recovered  \\\n",
       "196            197    Yemen        11945          2159             9124   \n",
       "144            145    Sudan        63742          5001            58284   \n",
       "148            149    Syria        57453          3164            54289   \n",
       "170            171  Somalia        27318          1361            13182   \n",
       "34              35     Peru      4481621        218931          4258688   \n",
       "\n",
       "     Active Cases  Total Test  Population  casetodeath(in %)  \\\n",
       "196           662      329592    31154867          18.074508   \n",
       "144           457      562941    45992020           7.845690   \n",
       "148             0      146269    19364809           5.507110   \n",
       "170         12775      400466    16841795           4.982063   \n",
       "34           4002    37754603    33684208           4.885085   \n",
       "\n",
       "     casetopopulation(in %)  \n",
       "196                0.038341  \n",
       "144                0.138594  \n",
       "148                0.296688  \n",
       "170                0.162204  \n",
       "34                13.304813  "
      ]
     },
     "execution_count": 35,
     "metadata": {},
     "output_type": "execute_result"
    }
   ],
   "source": [
    "cv2.head()"
   ]
  },
  {
   "cell_type": "code",
   "execution_count": 36,
   "id": "7638cecc",
   "metadata": {},
   "outputs": [],
   "source": [
    "toptencasetodeath=cv['Country'].head(10).values"
   ]
  },
  {
   "cell_type": "code",
   "execution_count": 37,
   "id": "8950de00",
   "metadata": {},
   "outputs": [
    {
     "data": {
      "text/plain": [
       "array(['USA', 'India', 'France', 'Germany', 'Brazil', 'Japan', 'S. Korea',\n",
       "       'Italy', 'UK', 'Russia'], dtype=object)"
      ]
     },
     "execution_count": 37,
     "metadata": {},
     "output_type": "execute_result"
    }
   ],
   "source": [
    "toptencasetodeath"
   ]
  },
  {
   "cell_type": "code",
   "execution_count": 38,
   "id": "d53b0349",
   "metadata": {},
   "outputs": [],
   "source": [
    "labels=cv['Country'].head(10).values"
   ]
  },
  {
   "cell_type": "code",
   "execution_count": 39,
   "id": "a4fc6e19",
   "metadata": {},
   "outputs": [],
   "source": [
    "value=cv2['casetodeath(in %)'].head(10)"
   ]
  },
  {
   "cell_type": "code",
   "execution_count": 40,
   "id": "9f80916b",
   "metadata": {},
   "outputs": [
    {
     "data": {
      "text/plain": [
       "196    18.074508\n",
       "144     7.845690\n",
       "148     5.507110\n",
       "170     4.982063\n",
       "34      4.885085\n",
       "88      4.773245\n",
       "18      4.508505\n",
       "96      4.049738\n",
       "114     3.779520\n",
       "205     3.646738\n",
       "Name: casetodeath(in %), dtype: float64"
      ]
     },
     "execution_count": 40,
     "metadata": {},
     "output_type": "execute_result"
    }
   ],
   "source": [
    "value"
   ]
  },
  {
   "cell_type": "code",
   "execution_count": 41,
   "id": "6c11b4b7",
   "metadata": {},
   "outputs": [
    {
     "data": {
      "image/png": "[encoded data removed]",
      "text/plain": [
       "<Figure size 640x480 with 1 Axes>"
      ]
     },
     "metadata": {},
     "output_type": "display_data"
    }
   ],
   "source": [
    "plt.pie(value,labels=labels,autopct='%1.0f%%')\n",
    "plt.show()"
   ]
  },
  {
   "cell_type": "code",
   "execution_count": 42,
   "id": "0421d15a",
   "metadata": {},
   "outputs": [
    {
     "data": {
      "text/plain": [
       "Int64Index([  0,   1,   2,   3,   4,   5,   6,   7,   8,   9,\n",
       "            ...\n",
       "            210, 211, 212, 213, 216, 217, 218, 219, 220, 224],\n",
       "           dtype='int64', length=195)"
      ]
     },
     "execution_count": 42,
     "metadata": {},
     "output_type": "execute_result"
    }
   ],
   "source": [
    "cv.index"
   ]
  },
  {
   "cell_type": "code",
   "execution_count": null,
   "id": "81c222b6",
   "metadata": {},
   "outputs": [],
   "source": []
  }
 ],
 "metadata": {
  "kernelspec": {
   "display_name": "Python 3 (ipykernel)",
   "language": "python",
   "name": "python3"
  },
  "language_info": {
   "codemirror_mode": {
    "name": "ipython",
    "version": 3
   },
   "file_extension": ".py",
   "mimetype": "text/x-python",
   "name": "python",
   "nbconvert_exporter": "python",
   "pygments_lexer": "ipython3",
   "version": "3.9.13"
  }
 },
 "nbformat": 4,
 "nbformat_minor": 5
}
